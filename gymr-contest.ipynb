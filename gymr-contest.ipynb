{
 "cells": [
  {
   "cell_type": "markdown",
   "metadata": {},
   "source": [
    "# Gym Retro\n",
    "\n",
    "[Gym Retro](https://blog.openai.com/gym-retro/) is a platform for [reinforcement learning](https://en.wikipedia.org/wiki/Reinforcement_learning) research on games. It turns out that old games are a perfect fit for benchmarking and improving RL agents in a simulated environment. After two years after the beta release of [Gym](https://blog.openai.com/openai-gym-beta/), OpenAI released an extension of this amazing software by adding more game environments. The goal of the new platform is to study the ability of the agents to *generalize* between games with similar concepts but different appearances.\n",
    "\n",
    "![test](https://mikelyons.org/images/retro_colab/heavy_tile.png)\n",
    "\n",
    "## Gym Retro Contest - Sonic The Hedgehog™\n",
    "\n",
    "[In this contest](https://blog.openai.com/retro-contest/), participants try to create the best agent for playing custom levels of the Sonic games — without having access to those levels during development. You can find more detail in this [page](https://contest.openai.com/details).\n",
    "\n",
    "As mentioned in the contest's description this is a Transfer Learning task, which means that you are free to train your agent however you'd like, however, the OpenAI Team recommend using Sonic 1, 2, and 3 & Knuckles, which are available on Steam here:\n",
    "\n",
    "- [Sonic The Hedgehog](http://store.steampowered.com/app/71113/Sonic_The_Hedgehog/)\n",
    "- [Sonic The Hedgehog 2](http://store.steampowered.com/app/71163/Sonic_The_Hedgehog_2/)\n",
    "- [Sonic 3 & Knuckles](http://store.steampowered.com/app/71162/Sonic_3___Knuckles/)\n",
    "\n",
    "In this notebook, we will show you how to use set up Gym-Retro on FloydHub.\n",
    "\n",
    "We will:\n",
    "\n",
    "- Install Gym-Retro\n",
    "- Import and load the ROMs of the games\n",
    "- Use random-policy for a couple of steps\n",
    "- Visualize the agents\n",
    "\n",
    "### Instructions\n",
    "\n",
    "- To execute a code cell, click on the cell and press `Shift + Enter` (shortcut for Run).\n",
    "- To learn more about Workspaces, check out the [Getting Started Notebook](./get_started_workspace.ipynb).\n",
    "- **Tip**: *Feel free to use this Notebook as a starting point for your own super awesome Reinforcement Learning task*.\n",
    "\n",
    "Now, let's get started! 🚀"
   ]
  },
  {
   "cell_type": "markdown",
   "metadata": {},
   "source": [
    "## Initial Setup\n",
    "Let's start by importing some installing extra packages from running `gym-retro`"
   ]
  },
  {
   "cell_type": "code",
   "execution_count": 1,
   "metadata": {},
   "outputs": [
    {
     "name": "stdout",
     "output_type": "stream",
     "text": [
      "Installing deps...\n",
      "Get:1 http://storage.googleapis.com/bazel-apt stable InRelease [2450 B]\n",
      "Get:2 http://security.ubuntu.com/ubuntu xenial-security InRelease [107 kB]\n",
      "Get:3 http://ppa.launchpad.net/git-core/ppa/ubuntu xenial InRelease [17.5 kB]\n",
      "Get:4 http://archive.ubuntu.com/ubuntu xenial InRelease [247 kB]\n",
      "Ign:1 http://storage.googleapis.com/bazel-apt stable InRelease\n",
      "Get:5 http://storage.googleapis.com/bazel-apt stable/jdk1.8 amd64 Packages [615 B]\n",
      "Get:6 https://deb.nodesource.com/node_8.x xenial InRelease [4646 B]\n",
      "Get:7 http://security.ubuntu.com/ubuntu xenial-security/universe Sources [81.2 kB]\n",
      "Get:8 https://deb.nodesource.com/node_8.x xenial/main Sources [761 B]\n",
      "Get:9 https://deb.nodesource.com/node_8.x xenial/main amd64 Packages [1007 B]\n",
      "Get:10 http://security.ubuntu.com/ubuntu xenial-security/main amd64 Packages [652 kB]\n",
      "Get:11 http://ppa.launchpad.net/git-core/ppa/ubuntu xenial/main amd64 Packages [3492 B]\n",
      "Get:12 https://packagecloud.io/github/git-lfs/ubuntu xenial InRelease [23.2 kB]\n",
      "Get:13 http://security.ubuntu.com/ubuntu xenial-security/restricted amd64 Packages [12.7 kB]\n",
      "Get:14 http://security.ubuntu.com/ubuntu xenial-security/universe amd64 Packages [450 kB]\n",
      "Get:15 http://archive.ubuntu.com/ubuntu xenial-updates InRelease [109 kB]\n",
      "Get:16 http://security.ubuntu.com/ubuntu xenial-security/multiverse amd64 Packages [3735 B]\n",
      "Get:17 https://packagecloud.io/github/git-lfs/ubuntu xenial/main amd64 Packages [6107 B]\n",
      "Get:18 http://archive.ubuntu.com/ubuntu xenial-backports InRelease [107 kB]\n",
      "Get:19 http://archive.ubuntu.com/ubuntu xenial/universe Sources [9802 kB]\n",
      "Get:20 http://archive.ubuntu.com/ubuntu xenial/main amd64 Packages [1558 kB]\n",
      "Get:21 http://archive.ubuntu.com/ubuntu xenial/restricted amd64 Packages [14.1 kB]\n",
      "Get:22 http://archive.ubuntu.com/ubuntu xenial/universe amd64 Packages [9827 kB]\n",
      "Get:23 http://archive.ubuntu.com/ubuntu xenial/multiverse amd64 Packages [176 kB]\n",
      "Get:24 http://archive.ubuntu.com/ubuntu xenial-updates/universe Sources [256 kB]\n",
      "Get:25 http://archive.ubuntu.com/ubuntu xenial-updates/main amd64 Packages [1028 kB]\n",
      "Get:26 http://archive.ubuntu.com/ubuntu xenial-updates/restricted amd64 Packages [13.1 kB]\n",
      "Get:27 http://archive.ubuntu.com/ubuntu xenial-updates/universe amd64 Packages [819 kB]\n",
      "Get:28 http://archive.ubuntu.com/ubuntu xenial-updates/multiverse amd64 Packages [18.8 kB]\n",
      "Get:29 http://archive.ubuntu.com/ubuntu xenial-backports/main amd64 Packages [5157 B]\n",
      "Get:30 http://archive.ubuntu.com/ubuntu xenial-backports/universe amd64 Packages [8080 B]\n",
      "Fetched 25.4 MB in 4s (5731 kB/s)\n",
      "Reading package lists... Done\n",
      "W: GPG error: http://storage.googleapis.com/bazel-apt stable InRelease: The following signatures were invalid: KEYEXPIRED 1527185977  KEYEXPIRED 1527185977  KEYEXPIRED 1527185977\n",
      "W: The repository 'http://storage.googleapis.com/bazel-apt stable InRelease' is not signed.\n",
      "N: Data from such a repository can't be authenticated and is therefore potentially dangerous to use.\n",
      "N: See apt-secure(8) manpage for repository creation and user configuration details.\n",
      "Reading package lists... Done\n",
      "Building dependency tree       \n",
      "Reading state information... Done\n",
      "pkg-config is already the newest version (0.29.1-0ubuntu1).\n",
      "The following NEW packages will be installed:\n",
      "  lua5.1\n",
      "The following packages will be upgraded:\n",
      "  libav-tools\n",
      "1 upgraded, 1 newly installed, 0 to remove and 151 not upgraded.\n",
      "Need to get 105 kB of archives.\n",
      "After this operation, 317 kB of additional disk space will be used.\n",
      "Get:1 http://archive.ubuntu.com/ubuntu xenial/universe amd64 lua5.1 amd64 5.1.5-8ubuntu1 [90.8 kB]\n",
      "Get:2 http://archive.ubuntu.com/ubuntu xenial-updates/universe amd64 libav-tools all 7:2.8.14-0ubuntu0.16.04.1 [14.4 kB]\n",
      "Fetched 105 kB in 0s (111 kB/s)\n",
      "debconf: unable to initialize frontend: Dialog\n",
      "debconf: (No usable dialog-like program is installed, so the dialog based frontend cannot be used. at /usr/share/perl5/Debconf/FrontEnd/Dialog.pm line 76, <> line 2.)\n",
      "debconf: falling back to frontend: Readline\n",
      "Selecting previously unselected package lua5.1.\n",
      "(Reading database ... 74358 files and directories currently installed.)\n",
      "Preparing to unpack .../lua5.1_5.1.5-8ubuntu1_amd64.deb ...\n",
      "Unpacking lua5.1 (5.1.5-8ubuntu1) ...\n",
      "Preparing to unpack .../libav-tools_7%3a2.8.14-0ubuntu0.16.04.1_all.deb ...\n",
      "Unpacking libav-tools (7:2.8.14-0ubuntu0.16.04.1) over (7:2.8.11-0ubuntu0.16.04.1) ...\n",
      "Processing triggers for man-db (2.7.5-1) ...\n",
      "Setting up lua5.1 (5.1.5-8ubuntu1) ...\n",
      "update-alternatives: using /usr/bin/lua5.1 to provide /usr/bin/lua (lua-interpreter) in auto mode\n",
      "update-alternatives: using /usr/bin/luac5.1 to provide /usr/bin/luac (lua-compiler) in auto mode\n",
      "Setting up libav-tools (7:2.8.14-0ubuntu0.16.04.1) ...\n",
      "- Done!\n"
     ]
    }
   ],
   "source": [
    "! bash install.sh"
   ]
  },
  {
   "cell_type": "markdown",
   "metadata": {},
   "source": [
    "Now we can import the dependencies."
   ]
  },
  {
   "cell_type": "code",
   "execution_count": 2,
   "metadata": {},
   "outputs": [],
   "source": [
    "%load_ext autoreload\n",
    "%autoreload 2\n",
    "\n",
    "import retro\n",
    "from support import save_frames_as_gif, install_games_from_rom_dir, download_and_unzip_rom_archive_from_url"
   ]
  },
  {
   "cell_type": "markdown",
   "metadata": {},
   "source": [
    "## Import and load external ROMs\n",
    "\n",
    "In the next Code Cells we will show how to load an external ROM from a dataset or downloaded from the internet."
   ]
  },
  {
   "cell_type": "markdown",
   "metadata": {},
   "source": [
    "##### - Loading ROMs from Dataset"
   ]
  },
  {
   "cell_type": "code",
   "execution_count": 6,
   "metadata": {},
   "outputs": [
    {
     "name": "stdout",
     "output_type": "stream",
     "text": [
      "Importing SonicAndKnuckles3-Genesis\n",
      "Importing SonicTheHedgehog-Genesis\n",
      "Importing SonicTheHedgehog2-Genesis\n",
      "Imported 3 games\n"
     ]
    }
   ],
   "source": [
    "DS_PATH = '' # edit with your path/to/rom\n",
    "\n",
    "install_games_from_rom_dir(DS_PATH)"
   ]
  },
  {
   "cell_type": "markdown",
   "metadata": {},
   "source": [
    "##### - Loading ROMs from URL"
   ]
  },
  {
   "cell_type": "code",
   "execution_count": 7,
   "metadata": {},
   "outputs": [
    {
     "name": "stdout",
     "output_type": "stream",
     "text": [
      "Directory roms/ didn't exist, making\n"
     ]
    },
    {
     "name": "stderr",
     "output_type": "stream",
     "text": [
      "3694592it [00:01, 2019826.74it/s]                             \n",
      "100%|██████████| 5767168/5767168 [00:00<00:00, 82681915.42it/s]\n"
     ]
    },
    {
     "name": "stdout",
     "output_type": "stream",
     "text": [
      "Importing SonicAndKnuckles3-Genesis\n",
      "Importing SonicTheHedgehog-Genesis\n",
      "Importing SonicTheHedgehog2-Genesis\n",
      "Imported 3 games\n"
     ]
    }
   ],
   "source": [
    "URL = '' # edit with your https://URL/of/your/ROM/zipfile\n",
    "\n",
    "download_and_unzip_rom_archive_from_url(URL, 'roms/')\n",
    "install_games_from_rom_dir('roms/')"
   ]
  },
  {
   "cell_type": "markdown",
   "metadata": {},
   "source": [
    "Let's check if the games were correctly imported by listing the available environments"
   ]
  },
  {
   "cell_type": "code",
   "execution_count": 8,
   "metadata": {},
   "outputs": [
    {
     "data": {
      "text/plain": [
       "['Adventure-Atari2600',\n",
       " 'AirRaid-Atari2600',\n",
       " 'Airstriker-Genesis',\n",
       " 'Alien-Atari2600',\n",
       " 'AlienSoldier-Genesis',\n",
       " 'AlteredBeast-Genesis',\n",
       " 'Amidar-Atari2600',\n",
       " 'Assault-Atari2600',\n",
       " 'Asterix-Atari2600',\n",
       " 'Asteroids-Atari2600',\n",
       " 'Atlantis-Atari2600',\n",
       " 'BankHeist-Atari2600',\n",
       " 'BattleZone-Atari2600',\n",
       " 'BeamRider-Atari2600',\n",
       " 'Berzerk-Atari2600',\n",
       " 'BioHazardBattle-Genesis',\n",
       " 'Bowling-Atari2600',\n",
       " 'Boxing-Atari2600',\n",
       " 'Breakout-Atari2600',\n",
       " 'Carnival-Atari2600',\n",
       " 'Centipede-Atari2600',\n",
       " 'ChopperCommand-Atari2600',\n",
       " 'Columns-Genesis',\n",
       " 'ColumnsIII-Genesis',\n",
       " 'ComixZone-Genesis',\n",
       " 'CrackDown-Genesis',\n",
       " 'CrazyClimber-Atari2600',\n",
       " 'Defender-Atari2600',\n",
       " 'DemonAttack-Atari2600',\n",
       " 'DoubleDunk-Atari2600',\n",
       " 'DrRobotniksMeanBeanMachine-Genesis',\n",
       " 'DynamiteHeaddy-Genesis',\n",
       " 'Enduro-Atari2600',\n",
       " 'FatalLabyrinth-Genesis',\n",
       " 'FishingDerby-Atari2600',\n",
       " 'Flicky-Genesis',\n",
       " 'Freeway-Atari2600',\n",
       " 'Frostbite-Atari2600',\n",
       " 'GainGround-Genesis',\n",
       " 'GalaxyForceII-Genesis',\n",
       " 'GoldenAxe-Genesis',\n",
       " 'GoldenAxeIII-Genesis',\n",
       " 'Gopher-Atari2600',\n",
       " 'Gravitar-Atari2600',\n",
       " 'Hero-Atari2600',\n",
       " 'IceHockey-Atari2600',\n",
       " 'Jamesbond-Atari2600',\n",
       " 'JourneyEscape-Atari2600',\n",
       " 'Kaboom-Atari2600',\n",
       " 'Kangaroo-Atari2600',\n",
       " 'KidChameleon-Genesis',\n",
       " 'Krull-Atari2600',\n",
       " 'KungFuMaster-Atari2600',\n",
       " 'MontezumaRevenge-Atari2600',\n",
       " 'MsPacman-Atari2600',\n",
       " 'NameThisGame-Atari2600',\n",
       " 'Phoenix-Atari2600',\n",
       " 'Pitfall-Atari2600',\n",
       " 'Pong-Atari2600',\n",
       " 'Pooyan-Atari2600',\n",
       " 'PrivateEye-Atari2600',\n",
       " 'Qbert-Atari2600',\n",
       " 'RevengeOfShinobi-Genesis',\n",
       " 'Ristar-Genesis',\n",
       " 'Riverraid-Atari2600',\n",
       " 'RoadRunner-Atari2600',\n",
       " 'Robotank-Atari2600',\n",
       " 'Seaquest-Atari2600',\n",
       " 'ShadowDancerTheSecretOfShinobi-Genesis',\n",
       " 'ShinobiIIIReturnOfTheNinjaMaster-Genesis',\n",
       " 'Skiing-Atari2600',\n",
       " 'Solaris-Atari2600',\n",
       " 'SonicAndKnuckles3-Genesis',\n",
       " 'SonicTheHedgehog-Genesis',\n",
       " 'SonicTheHedgehog2-Genesis',\n",
       " 'SpaceHarrierII-Genesis',\n",
       " 'SpaceInvaders-Atari2600',\n",
       " 'StarGunner-Atari2600',\n",
       " 'StreetsOfRage-Genesis',\n",
       " 'StreetsOfRage2-Genesis',\n",
       " 'StreetsOfRage3-Genesis',\n",
       " 'SuperThunderBlade-Genesis',\n",
       " 'Tennis-Atari2600',\n",
       " 'TimePilot-Atari2600',\n",
       " 'Tutankham-Atari2600',\n",
       " 'UpNDown-Atari2600',\n",
       " 'Vectorman-Genesis',\n",
       " 'Vectorman2-Genesis',\n",
       " 'Venture-Atari2600',\n",
       " 'VideoPinball-Atari2600',\n",
       " 'WizardOfWor-Atari2600',\n",
       " 'YarsRevenge-Atari2600',\n",
       " 'Zaxxon-Atari2600']"
      ]
     },
     "execution_count": 8,
     "metadata": {},
     "output_type": "execute_result"
    }
   ],
   "source": [
    "sorted(retro.list_games())"
   ]
  },
  {
   "cell_type": "markdown",
   "metadata": {},
   "source": [
    "## A random walk"
   ]
  },
  {
   "cell_type": "markdown",
   "metadata": {},
   "source": [
    "In the next steps will load the `MetropolisZone` level from **SonicTheHedgehog2** game and make a random walk in the environment for 300 steps."
   ]
  },
  {
   "cell_type": "code",
   "execution_count": 9,
   "metadata": {},
   "outputs": [],
   "source": [
    "# Loading the level\n",
    "env = retro.make(\n",
    "    game='SonicTheHedgehog2-Genesis',  # Game\n",
    "    state='MetropolisZone.Act1',  # Level\n",
    "    record=True)  # Record the Run"
   ]
  },
  {
   "cell_type": "code",
   "execution_count": 11,
   "metadata": {},
   "outputs": [
    {
     "data": {
      "image/png": "[encoded data removed]",
      "text/plain": [
       "<Figure size 432x288 with 1 Axes>"
      ]
     },
     "metadata": {},
     "output_type": "display_data"
    }
   ],
   "source": [
    "# Frame list collector\n",
    "frames = []\n",
    "STEPS = 300\n",
    "\n",
    "observation = env.reset()\n",
    "for i in range(STEPS): # Take random actions for # STEPS\n",
    "    random_action = env.action_space.sample()\n",
    "    observation, reward, done, info = env.step( random_action )\n",
    "    frames.append(observation) # collecting observation\n",
    "    \n",
    "    if done: # If the env is done make sure you reset it\n",
    "        observation = env.reset()\n",
    "        frames.append(observation)\n",
    "        \n",
    "# Save the run\n",
    "save_frames_as_gif(frames, filename='sonic2-metropolis-act1-300-steps.gif')"
   ]
  },
  {
   "cell_type": "markdown",
   "metadata": {},
   "source": [
    "## Visualize the results\n",
    "\n",
    "You can now visualize the run by opening the gif file from the `File Tab Viewer` at the left."
   ]
  },
  {
   "cell_type": "markdown",
   "metadata": {},
   "source": [
    "![visual](images/visual.gif)"
   ]
  },
  {
   "cell_type": "markdown",
   "metadata": {},
   "source": [
    "## It's your turn\n",
    "\n",
    "#### Baseline\n",
    "OpenAI provides usefull baseline implementations that you can tweak in the [retro-baselines](https://github.com/openai/retro-baselines) repo on GitHub. You can use these as starting points for making fancier algorithms or just for tweaking parameters on the existing ones.\n",
    "\n",
    "#### Running Multiple Gym-Retro Environments\n",
    "This environment comes with the `retrowrapper` installed, in this way you can [run multiple Gym-Retro Environments](https://mikelyons.org/2018/05/22/Multiple-Retro-Environments.html). To use it, just instantiate it like you would a normal retro environment, and then treat it exactly the same, but now you can have multiples in a single python process. Magic! For more see the [repo](https://github.com/MaxStrange/retrowrapper). \n",
    "\n",
    "```\n",
    "import retrowrapper\n",
    "\n",
    "env1 = retrowrapper.RetroWrapper(\n",
    "    game='SonicTheHedgehog2-Genesis',\n",
    "    state='MetropolisZone.Act1' \n",
    ")\n",
    "env2 = retrowrapper.RetroWrapper( \n",
    "    game='SonicTheHedgehog2-Genesis', \n",
    "    state='MetropolisZone.Act2' \n",
    ")\n",
    "```"
   ]
  }
 ],
 "metadata": {
  "kernelspec": {
   "display_name": "Python 3",
   "language": "python",
   "name": "python3"
  },
  "language_info": {
   "codemirror_mode": {
    "name": "ipython",
    "version": 3
   },
   "file_extension": ".py",
   "mimetype": "text/x-python",
   "name": "python",
   "nbconvert_exporter": "python",
   "pygments_lexer": "ipython3",
   "version": "3.6.5"
  }
 },
 "nbformat": 4,
 "nbformat_minor": 2
}
